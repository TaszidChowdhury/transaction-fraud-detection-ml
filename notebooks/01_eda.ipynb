{
  "cells": [
    {
      "cell_type": "markdown",
      "metadata": {},
      "source": [
        "# 01 - EDA: Transaction Pattern Analysis\n"
      ]
    },
    {
      "cell_type": "code",
      "execution_count": null,
      "metadata": {},
      "outputs": [],
      "source": [
        "import os\n",
        "import pandas as pd\n",
        "import seaborn as sns\n",
        "import matplotlib.pyplot as plt\n",
        "from src.data import DataPaths, ensure_dataset, load_dataframe_from_csv\n",
        "\n",
        "paths = DataPaths()\n",
        "csv_path = ensure_dataset(paths, generate_if_missing=True, n_rows=20000, seed=42)\n",
        "df = load_dataframe_from_csv(csv_path)\n",
        "df.head()\n"
      ]
    },
    {
      "cell_type": "markdown",
      "metadata": {},
      "source": [
        "## Overview\n"
      ]
    },
    {
      "cell_type": "code",
      "execution_count": null,
      "metadata": {},
      "outputs": [],
      "source": [
        "df.describe(include='all').T\n"
      ]
    },
    {
      "cell_type": "markdown",
      "metadata": {},
      "source": [
        "## Class Balance\n"
      ]
    },
    {
      "cell_type": "code",
      "execution_count": null,
      "metadata": {},
      "outputs": [],
      "source": [
        "df['is_fraud'].value_counts(normalize=True)\n"
      ]
    },
    {
      "cell_type": "markdown",
      "metadata": {},
      "source": [
        "## Amount Distribution and Outliers\n"
      ]
    },
    {
      "cell_type": "code",
      "execution_count": null,
      "metadata": {},
      "outputs": [],
      "source": [
        "sns.set_theme(style='whitegrid')\n",
        "fig, ax = plt.subplots(1,2, figsize=(12,4))\n",
        "sns.histplot(df['amount'], bins=50, ax=ax[0], kde=True)\n",
        "sns.boxplot(x=df['amount'], ax=ax[1])\n",
        "plt.show()\n"
      ]
    },
    {
      "cell_type": "markdown",
      "metadata": {},
      "source": [
        "## Fraud Rate by Category, Time, and Location\n"
      ]
    },
    {
      "cell_type": "code",
      "execution_count": null,
      "metadata": {},
      "outputs": [],
      "source": [
        "for col in ['merchant_category', 'time_of_day', 'location']:\n",
        "    rate = df.groupby(col)['is_fraud'].mean().sort_values(ascending=False)\n",
        "    plt.figure(figsize=(8,3))\n",
        "    sns.barplot(x=rate.index, y=rate.values)\n",
        "    plt.title(f'Fraud rate by {col}')\n",
        "    plt.xticks(rotation=30)\n",
        "    plt.show()\n"
      ]
    },
    {
      "cell_type": "markdown",
      "metadata": {},
      "source": [
        "## Heatmap: Amount vs Time (Avg Fraud Probability)\n"
      ]
    },
    {
      "cell_type": "code",
      "execution_count": null,
      "metadata": {},
      "outputs": [],
      "source": [
        "df['amount_bin'] = pd.qcut(df['amount'], q=10, duplicates='drop')\n",
        "pivot = df.pivot_table(index='amount_bin', columns='time_of_day', values='is_fraud', aggfunc='mean')\n",
        "plt.figure(figsize=(8,5))\n",
        "sns.heatmap(pivot, annot=True, fmt='.2f', cmap='Reds')\n",
        "plt.title('Fraud rate heatmap: amount deciles x time_of_day')\n",
        "plt.show()\n"
      ]
    },
    {
      "cell_type": "markdown",
      "metadata": {},
      "source": [
        "## Save a few figures to reports/figures\n"
      ]
    },
    {
      "cell_type": "code",
      "execution_count": null,
      "metadata": {},
      "outputs": [],
      "source": [
        "os.makedirs('reports/figures', exist_ok=True)\n",
        "plt.figure(figsize=(6,4))\n",
        "sns.histplot(df['amount'], bins=50, kde=True)\n",
        "plt.title('Amount distribution')\n",
        "plt.tight_layout()\n",
        "plt.savefig('reports/figures/amount_distribution.png', dpi=150)\n",
        "plt.close()\n"
      ]
    }
  ],
  "metadata": {
    "language_info": {
      "name": "python"
    }
  },
  "nbformat": 4,
  "nbformat_minor": 2
}
