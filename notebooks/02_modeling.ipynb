{
  "cells": [
    {
      "cell_type": "markdown",
      "metadata": {},
      "source": [
        "# 02 - Modeling: Fraud Classification\n"
      ]
    },
    {
      "cell_type": "code",
      "execution_count": null,
      "metadata": {},
      "outputs": [],
      "source": [
        "import json\n",
        "import pandas as pd\n",
        "import matplotlib.pyplot as plt\n",
        "from sklearn.metrics import RocCurveDisplay\n",
        "from src.data import DataPaths, ensure_dataset, load_dataframe_from_csv\n",
        "from src.models import build_full_pipeline, TARGET_COLUMN\n",
        "from sklearn.model_selection import train_test_split\n",
        "\n",
        "paths = DataPaths()\n",
        "csv_path = ensure_dataset(paths, generate_if_missing=True, n_rows=20000, seed=42)\n",
        "df = load_dataframe_from_csv(csv_path)\n",
        "X = df.drop(columns=[TARGET_COLUMN])\n",
        "y = df[TARGET_COLUMN].astype(int).values\n",
        "X_train, X_test, y_train, y_test = train_test_split(X, y, test_size=0.2, random_state=42, stratify=y)\n"
      ]
    },
    {
      "cell_type": "code",
      "execution_count": null,
      "metadata": {},
      "outputs": [],
      "source": [
        "# Train Logistic Regression\n",
        "pl_log = build_full_pipeline('logreg')\n",
        "pl_log.fit(X_train, y_train)\n",
        "y_pred_log = pl_log.predict(X_test)\n",
        "y_prob_log = pl_log.predict_proba(X_test)[:,1]\n",
        "\n",
        "# Train Decision Tree\n",
        "pl_tree = build_full_pipeline('tree')\n",
        "pl_tree.fit(X_train, y_train)\n",
        "y_pred_tree = pl_tree.predict(X_test)\n",
        "y_prob_tree = pl_tree.predict_proba(X_test)[:,1]\n"
      ]
    },
    {
      "cell_type": "code",
      "execution_count": null,
      "metadata": {},
      "outputs": [],
      "source": [
        "from src.metrics import compute_classification_metrics\n",
        "\n",
        "m_log = compute_classification_metrics(y_test, y_pred_log, y_prob_log)\n",
        "m_tree = compute_classification_metrics(y_test, y_pred_tree, y_prob_tree)\n",
        "{'logreg': m_log, 'tree': m_tree}\n"
      ]
    },
    {
      "cell_type": "code",
      "execution_count": null,
      "metadata": {},
      "outputs": [],
      "source": [
        "# ROC Curves\n",
        "fig, ax = plt.subplots(figsize=(6,5))\n",
        "RocCurveDisplay.from_predictions(y_test, y_prob_log, name='LogReg', ax=ax)\n",
        "RocCurveDisplay.from_predictions(y_test, y_prob_tree, name='Tree', ax=ax)\n",
        "plt.title('ROC Curves')\n",
        "plt.tight_layout()\n",
        "plt.show()\n"
      ]
    },
    {
      "cell_type": "code",
      "execution_count": null,
      "metadata": {},
      "outputs": [],
      "source": [
        "# Export a tidy results CSV like the CLI\n",
        "results = X_test.copy()\n",
        "results['y_true'] = y_test\n",
        "results['y_prob_log'] = y_prob_log\n",
        "results['y_prob_tree'] = y_prob_tree\n",
        "results.to_csv('reports/fraud_results.csv', index=False)\n",
        "with open('reports/metrics.json', 'w') as f:\n",
        "    json.dump({'logreg': m_log, 'tree': m_tree}, f, indent=2)\n",
        "'Exported to reports/'\n"
      ]
    }
  ],
  "metadata": {
    "language_info": {
      "name": "python"
    }
  },
  "nbformat": 4,
  "nbformat_minor": 2
}
